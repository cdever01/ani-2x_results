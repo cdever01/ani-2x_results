{
 "cells": [
  {
   "cell_type": "code",
   "execution_count": null,
   "metadata": {},
   "outputs": [],
   "source": [
    "#Imports\n",
    "import os\n",
    "import h5py\n",
    "from math import sqrt\n",
    "import numpy as np\n",
    "\n",
    "\n",
    "import torch\n",
    "import torchani\n",
    "from torchani.units import HARTREE_TO_KCALMOL"
   ]
  },
  {
   "cell_type": "code",
   "execution_count": null,
   "metadata": {},
   "outputs": [],
   "source": [
    "#Build TorchANI Model\n",
    "\n",
    "model = torchani.models.ANI2x(periodic_table_index=False).to(device).double()   # Set Model with double precision",
    "\n",
    "species_to_tensor = torchani.utils.ChemicalSymbolsToInts(['H','C','N','O','S','F', 'Cl']) #Species to tensor function  "
   ]
  },
  {
   "cell_type": "code",
   "execution_count": null,
   "metadata": {},
   "outputs": [],
   "source": [
    "#Functions\n",
    "\n",
    "def singlepoint_energy_calc(xyz, typ):\n",
    "    \"\"\"\n",
    "    Function that takes coordinates and species and perfoms a single point energy calculation using\n",
    "    a torchANI model\n",
    "    \n",
    "    Parameters:\n",
    "    -----------\n",
    "    xyz: coordinates with shape (1, Na, 3), where Na is number of atoms in molecule\n",
    "    typ: lsit of atom types in molecule with shape (1, Na)\n",
    "    \n",
    "    return energy value as tensor\n",
    "    \"\"\"\n",
    "    coordinates = torch.tensor(xyz,requires_grad=True,device=device)\n",
    "    species=species_to_tensor(typ).unsqueeze(0).to(device)\n",
    "    _, energy = model((species, coordinates))\n",
    "    return energy\n",
    "\n",
    "def abs_dif(x,y):\n",
    "    \"\"\"\n",
    "    Function that calculates the absolute differnce.\n",
    "    \"\"\"\n",
    "    delta = np.subtract(x,y)\n",
    "    return abs(delta)\n",
    "\n"
   ]
  },
  {
   "cell_type": "code",
   "execution_count": null,
   "metadata": {},
   "outputs": [],
   "source": [
    "'''                 ANI data loader class\n",
    "    Class for loading data stored with the datapacker class.\n",
    "'''\n",
    "class anidataloader(object):\n",
    "\n",
    "    ''' Contructor '''\n",
    "    def __init__(self, store_file):\n",
    "        if not os.path.exists(store_file):\n",
    "            raise FileNotFoundError('file ' + store_file + 'not found.')\n",
    "        self.store = h5py.File(store_file,'r')\n",
    "\n",
    "    ''' Group recursive iterator (iterate through all groups in all branches and return datasets in dicts) '''\n",
    "    def h5py_dataset_iterator(self,g, prefix=''):\n",
    "        for key in g.keys():\n",
    "            item = g[key]\n",
    "            path = '{}/{}'.format(prefix, key)\n",
    "            keys = [i for i in item.keys()]\n",
    "            if isinstance(item[keys[0]], h5py.Dataset): # test for dataset\n",
    "                data = {'path':path}\n",
    "                for k in keys:\n",
    "                    if not isinstance(item[k], h5py.Group):\n",
    "                        dataset = np.array(item[k].value)\n",
    "\n",
    "                        if type(dataset) is np.ndarray:\n",
    "                            if dataset.size != 0:\n",
    "                                if type(dataset[0]) is np.bytes_:\n",
    "                                    dataset = [a.decode('ascii') for a in dataset]\n",
    "\n",
    "                        data.update({k:dataset})\n",
    "\n",
    "                yield data\n",
    "            else: # test for group (go down)\n",
    "                yield from self.h5py_dataset_iterator(item, path)\n",
    "\n",
    "    ''' Default class iterator (iterate through all data) '''\n",
    "    def __iter__(self):\n",
    "        for data in self.h5py_dataset_iterator(self.store):\n",
    "            yield data\n",
    "\n",
    "    ''' Returns a list of all groups in the file '''\n",
    "    def get_group_list(self):\n",
    "        return [g for g in self.store.values()]\n",
    "\n",
    "    ''' Allows interation through the data in a given group '''\n",
    "    def iter_group(self,g):\n",
    "        for data in self.h5py_dataset_iterator(g):\n",
    "            yield data\n",
    "    ''' Returns the requested dataset '''\n",
    "    def get_data(self, path, prefix=''):\n",
    "        item = self.store[path]\n",
    "        path = '{}/{}'.format(prefix, path)\n",
    "        keys = [i for i in item.keys()]\n",
    "        data = {'path': path}\n",
    "        for k in keys:\n",
    "            if not isinstance(item[k], h5py.Group):\n",
    "                dataset = np.array(item[k].value)\n",
    "\n",
    "                if type(dataset) is np.ndarray:\n",
    "                    if dataset.size != 0:\n",
    "                        if type(dataset[0]) is np.bytes_:\n",
    "                            dataset = [a.decode('ascii') for a in dataset]\n",
    "\n",
    "                data.update({k: dataset})\n",
    "        return data\n",
    "\n",
    "    ''' Returns the number of groups '''\n",
    "    def group_size(self):\n",
    "        return len(self.get_group_list())\n",
    "\n",
    "    ''' Returns the number of items in the entire file '''\n",
    "    def size(self):\n",
    "        count = 0\n",
    "        for g in self.store.values():\n",
    "            count = count + len(g.items())\n",
    "        return count\n",
    "\n",
    "    ''' Close the HDF5 file '''\n",
    "    def cleanup(self):\n",
    "        self.store.close()\n",
    "\n",
    "                                                      "
   ]
  },
  {
   "cell_type": "markdown",
   "metadata": {},
   "source": [
    "# Calculating Interaction  Energies"
   ]
  },
  {
   "cell_type": "code",
   "execution_count": null,
   "metadata": {},
   "outputs": [],
   "source": [
    "# Data files: \n",
    "\n",
    "data_in = 'h5_files/Halgren.h5'            #Path to H5 File\n",
    "\n",
    "adl = anidataloader(data_in)                #Load H5 file using the AniDataLoader"
   ]
  },
  {
   "cell_type": "code",
   "execution_count": null,
   "metadata": {},
   "outputs": [],
   "source": [
    "#Navigate through h5 file as if it were a dictionary\n",
    "for dat in adl:\n",
    "    for key in dat:\n",
    "        print(key)\n",
    "    break"
   ]
  },
  {
   "cell_type": "markdown",
   "metadata": {},
   "source": [
    "## Interaction Energy with No Deformation Energy"
   ]
  },
  {
   "cell_type": "code",
   "execution_count": null,
   "metadata": {},
   "outputs": [],
   "source": [
    "systems = []                       # List of system names\n",
    "ani_eAB = []                       # List of ANI Dimer energies (kcal/mol)\n",
    "ani_eA = []                        # List of ANI Monomer A energies (kcal/mol)\n",
    "ani_eB = []                        # List of ANI Monomer B energies (kcal/mol)\n",
    "dft_eAB = []                       # List of DFT Dimer energies (kcal/mol)\n",
    "dft_eA = []                        # List of DFT Monomer A energies (kcal/mol)\n",
    "dft_eB = []                        # List of DFT Monomer B energies (kcal/mol)\n",
    "   \n",
    "for dat in adl:\n",
    "    if '/ani/dimers/' in dat['path']:\n",
    "        systems.append(dat['path'][12:])\n",
    "        energy = singlepoint_energy_calc(dat['coordinates'], dat['species']) #Perform single point calculation \n",
    "        ani_eAB.append(energy.item()*HARTREE_TO_KCALMOL)\n",
    "    if '/ani/monA/' in dat['path']:\n",
    "        energy = singlepoint_energy_calc(dat['coordinates'], dat['species']) #Perform single point calculation\n",
    "        ani_eA.append(energy.item()*HARTREE_TO_KCALMOL)\n",
    "    if '/ani/monB/' in dat['path']:\n",
    "        energy = singlepoint_energy_calc(dat['coordinates'], dat['species']) #Perform single point calculation\n",
    "        ani_eB.append(energy.item()*HARTREE_TO_KCALMOL)\n",
    "    if '/dft/dimers/' in dat['path']:\n",
    "        dft_eAB.append(dat['energy'][0])                                     #Extract DFT energy from H5\n",
    "    if '/dft/monA/' in dat['path']:\n",
    "        dft_eA.append(dat['energy'][0])                                      #Extract DFT energy from H5\n",
    "    if '/dft/monB/' in dat['path']:\n",
    "        dft_eB.append(dat['energy'][0])                                      #Extract DFT energy from H5"
   ]
  },
  {
   "cell_type": "code",
   "execution_count": null,
   "metadata": {},
   "outputs": [],
   "source": [
    "for i in range(len(systems)): \n",
    "    print(systems[i])\n",
    "    print('ANI AB: ', ani_eAB[i] )\n",
    "    print('ANI A: \\t', ani_eA[i] )\n",
    "    print('ANI B: \\t', ani_eB[i] )\n",
    "    print('DFT AB: ', dft_eAB[i] )\n",
    "    print('DFT A: \\t', dft_eA[i] )\n",
    "    print('DFT B: \\t', dft_eB[i] )"
   ]
  },
  {
   "cell_type": "code",
   "execution_count": null,
   "metadata": {},
   "outputs": [],
   "source": [
    "#Calculate the Interaction energies and save them in lists\n",
    "# IE = E_AB - (E_A+E_B)\n",
    "\n",
    "ani_int_e = []                                    #List of ANI interaction energies\n",
    "dft_int_e = []                                    #List of DFT Interaction energies\n",
    "for i in range(len(systems)):\n",
    "    a_i_e = ani_eAB[i]-(ani_eA[i]+ani_eB[i])\n",
    "    ani_int_e.append(a_i_e)\n",
    "    d_i_e = dft_eAB[i]-(dft_eA[i]+dft_eB[i])\n",
    "    dft_int_e.append(d_i_e)"
   ]
  },
  {
   "cell_type": "code",
   "execution_count": null,
   "metadata": {},
   "outputs": [],
   "source": [
    "#ANI vs DFT\n",
    "ani_int_e = np.array(ani_int_e)\n",
    "dft_int_e = np.array(dft_int_e)\n",
    "print('ANI vs DFT')\n",
    "print('MAE')\n",
    "print(np.average(abs_dif(ani_int_e, dft_int_e)))\n",
    "print('RMSE')\n",
    "print (sqrt(np.average(abs_dif(ani_int_e,dft_int_e)**2)))"
   ]
  },
  {
   "cell_type": "markdown",
   "metadata": {},
   "source": [
    "## Interaction Energy with Deformation Energy"
   ]
  },
  {
   "cell_type": "code",
   "execution_count": null,
   "metadata": {},
   "outputs": [],
   "source": [
    "systems = []                       # List of system names\n",
    "ani_eAB = []                       # List of ANI Dimer energies (kcal/mol)\n",
    "ani_eA = []                        # List of ANI Monomer A energies (kcal/mol)\n",
    "ani_eB = []                        # List of ANI Monomer B energies (kcal/mol)\n",
    "dft_eAB = []                       # List of DFT Dimer energies (kcal/mol)\n",
    "dft_eA = []                        # List of DFT Monomer A energies (kcal/mol)\n",
    "dft_eB = []                        # List of DFT Monomer B energies (kcal/mol)\n",
    "   \n",
    "for dat in adl:\n",
    "    if '/ani/dimers/' in dat['path']:\n",
    "        systems.append(dat['path'][12:])\n",
    "        energy = singlepoint_energy_calc(dat['coordinates'], dat['species']) #Perform single point calculation \n",
    "        ani_eAB.append(energy.item()*HARTREE_TO_KCALMOL)\n",
    "    if '/ani/optmonA/' in dat['path']:\n",
    "        energy = singlepoint_energy_calc(dat['coordinates'], dat['species']) #Perform single point calculation\n",
    "        ani_eA.append(energy.item()*HARTREE_TO_KCALMOL)\n",
    "    if '/ani/optmonB/' in dat['path']:\n",
    "        energy = singlepoint_energy_calc(dat['coordinates'], dat['species']) #Perform single point calculation\n",
    "        ani_eB.append(energy.item()*HARTREE_TO_KCALMOL)\n",
    "    if '/dft/dimers/' in dat['path']:\n",
    "        dft_eAB.append(dat['energy'][0])                                     #Extract DFT energy from H5\n",
    "    if '/dft/optmonA/' in dat['path']:\n",
    "        dft_eA.append(dat['energy'][0])                                      #Extract DFT energy from H5\n",
    "    if '/dft/optmonB/' in dat['path']:\n",
    "        dft_eB.append(dat['energy'][0])                                      #Extract DFT energy from H5"
   ]
  },
  {
   "cell_type": "code",
   "execution_count": null,
   "metadata": {},
   "outputs": [],
   "source": [
    "for i in range(len(systems)): \n",
    "    print(systems[i])\n",
    "    print('ANI AB: ', ani_eAB[i] )\n",
    "    print('ANI A: \\t', ani_eA[i] )\n",
    "    print('ANI B: \\t', ani_eB[i] )\n",
    "    print('DFT AB: ', dft_eAB[i] )\n",
    "    print('DFT A: \\t', dft_eA[i] )\n",
    "    print('DFT B: \\t', dft_eB[i] )"
   ]
  },
  {
   "cell_type": "code",
   "execution_count": null,
   "metadata": {},
   "outputs": [],
   "source": [
    "#Calculate the Interaction energies and save them in lists\n",
    "# IE = E_AB - (E_A+E_B)\n",
    "\n",
    "ani_int_e = []                                    #List of ANI interaction energies\n",
    "dft_int_e = []                                    #List of DFT Interaction energies\n",
    "for i in range(len(systems)):\n",
    "    a_i_e = ani_eAB[i]-(ani_eA[i]+ani_eB[i])\n",
    "    ani_int_e.append(a_i_e)\n",
    "    d_i_e = dft_eAB[i]-(dft_eA[i]+dft_eB[i])\n",
    "    dft_int_e.append(d_i_e)"
   ]
  },
  {
   "cell_type": "code",
   "execution_count": null,
   "metadata": {},
   "outputs": [],
   "source": [
    "#ANI vs DFT\n",
    "ani_int_e = np.array(ani_int_e)\n",
    "dft_int_e = np.array(dft_int_e)\n",
    "print('ANI vs DFT')\n",
    "print('MAE')\n",
    "print(np.average(abs_dif(ani_int_e, dft_int_e)))\n",
    "print('RMSE')\n",
    "print (sqrt(np.average(abs_dif(ani_int_e,dft_int_e)**2)))"
   ]
  },
  {
   "cell_type": "code",
   "execution_count": null,
   "metadata": {},
   "outputs": [],
   "source": []
  }
 ],
 "metadata": {
  "kernelspec": {
   "display_name": "Python 3",
   "language": "python",
   "name": "python3"
  },
  "language_info": {
   "codemirror_mode": {
    "name": "ipython",
    "version": 3
   },
   "file_extension": ".py",
   "mimetype": "text/x-python",
   "name": "python",
   "nbconvert_exporter": "python",
   "pygments_lexer": "ipython3",
   "version": "3.7.3"
  }
 },
 "nbformat": 4,
 "nbformat_minor": 2
}
